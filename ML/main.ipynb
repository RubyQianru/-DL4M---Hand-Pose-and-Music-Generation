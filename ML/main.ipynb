{
 "cells": [
  {
   "cell_type": "markdown",
   "metadata": {},
   "source": [
    "# Hand Pose Recognition for Music Control"
   ]
  },
  {
   "cell_type": "code",
   "execution_count": 1,
   "metadata": {},
   "outputs": [
    {
     "name": "stderr",
     "output_type": "stream",
     "text": [
      "2024-04-24 18:35:26.941946: I tensorflow/core/platform/cpu_feature_guard.cc:182] This TensorFlow binary is optimized to use available CPU instructions in performance-critical operations.\n",
      "To enable the following instructions: AVX2 FMA, in other operations, rebuild TensorFlow with the appropriate compiler flags.\n"
     ]
    }
   ],
   "source": [
    "import utils as u "
   ]
  },
  {
   "cell_type": "code",
   "execution_count": 6,
   "metadata": {},
   "outputs": [
    {
     "name": "stdout",
     "output_type": "stream",
     "text": [
      "[1 1 1 ... 1 1 1]\n"
     ]
    }
   ],
   "source": [
    "file_paths = [\"../Data/data1.json\", \n",
    "              \"../Data/data2.json\", \n",
    "              \"../Data/data3.json\", \n",
    "              \"../Data/data4.json\", \n",
    "              \"../Data/data5.json\", \n",
    "              \"../Data/data6.json\", \n",
    "              \"../Data/data7.json\",\n",
    "              \"../Data/data8.json\", \n",
    "              ]\n",
    "\n",
    "x_data, y_data = u.load_data(file_paths) \n",
    "print(y_data) "
   ]
  },
  {
   "cell_type": "code",
   "execution_count": 7,
   "metadata": {},
   "outputs": [
    {
     "ename": "IndexError",
     "evalue": "index 324681 is out of bounds for axis 0 with size 314857",
     "output_type": "error",
     "traceback": [
      "\u001b[0;31m---------------------------------------------------------------------------\u001b[0m",
      "\u001b[0;31mIndexError\u001b[0m                                Traceback (most recent call last)",
      "Cell \u001b[0;32mIn[7], line 1\u001b[0m\n\u001b[0;32m----> 1\u001b[0m x_data, y_data \u001b[38;5;241m=\u001b[39m \u001b[43mu\u001b[49m\u001b[38;5;241;43m.\u001b[39;49m\u001b[43mshuffle_data\u001b[49m\u001b[43m(\u001b[49m\u001b[43mx_data\u001b[49m\u001b[43m,\u001b[49m\u001b[43m \u001b[49m\u001b[43my_data\u001b[49m\u001b[43m,\u001b[49m\u001b[43m \u001b[49m\u001b[43mrandom_seed\u001b[49m\u001b[38;5;241;43m=\u001b[39;49m\u001b[38;5;241;43m20\u001b[39;49m\u001b[43m)\u001b[49m \n\u001b[1;32m      2\u001b[0m \u001b[38;5;28mprint\u001b[39m(y_data)\n",
      "File \u001b[0;32m~/Documents/GitHub/Hand-Pose-and-Music-Generation/ML/utils.py:42\u001b[0m, in \u001b[0;36mshuffle_data\u001b[0;34m(x_data, y_data, random_seed)\u001b[0m\n\u001b[1;32m     40\u001b[0m shuffle_indices \u001b[38;5;241m=\u001b[39m np\u001b[38;5;241m.\u001b[39mrandom\u001b[38;5;241m.\u001b[39mpermutation(\u001b[38;5;28mlen\u001b[39m(x_data))\n\u001b[1;32m     41\u001b[0m x_data \u001b[38;5;241m=\u001b[39m x_data[shuffle_indices]\n\u001b[0;32m---> 42\u001b[0m y_data \u001b[38;5;241m=\u001b[39m \u001b[43my_data\u001b[49m\u001b[43m[\u001b[49m\u001b[43mshuffle_indices\u001b[49m\u001b[43m]\u001b[49m\n\u001b[1;32m     44\u001b[0m \u001b[38;5;28;01mreturn\u001b[39;00m x_data, y_data\n",
      "\u001b[0;31mIndexError\u001b[0m: index 324681 is out of bounds for axis 0 with size 314857"
     ]
    }
   ],
   "source": [
    "x_data, y_data = u.shuffle_data(x_data, y_data, random_seed=20) \n",
    "print(y_data)"
   ]
  },
  {
   "cell_type": "code",
   "execution_count": null,
   "metadata": {},
   "outputs": [],
   "source": [
    "split_idx = int(len(x_data) * 0.8)\n",
    "x_train, y_train, x_test, y_test = u.split_data(x_data, y_data, split_idx)"
   ]
  },
  {
   "cell_type": "code",
   "execution_count": null,
   "metadata": {},
   "outputs": [],
   "source": [
    "print(x_train.shape, y_train.shape, x_test.shape, y_test.shape)"
   ]
  },
  {
   "cell_type": "code",
   "execution_count": null,
   "metadata": {},
   "outputs": [],
   "source": [
    "x_train, y_train, x_val, y_val, x_test, y_test = u.preprocess_data(x_train, \n",
    "                                                                 y_train, \n",
    "                                                                 x_test, \n",
    "                                                                 y_test)"
   ]
  },
  {
   "cell_type": "code",
   "execution_count": null,
   "metadata": {},
   "outputs": [],
   "source": [
    "print(x_train.shape, y_train.shape, x_test.shape, y_test.shape)"
   ]
  },
  {
   "cell_type": "code",
   "execution_count": null,
   "metadata": {},
   "outputs": [],
   "source": [
    "print(len(x_train.shape))\n",
    "print(x_train.max())\n",
    "print(x_train.min())\n",
    "\n",
    "print(len(x_test.shape))\n",
    "print(x_test.max())\n",
    "print(x_test.min())"
   ]
  },
  {
   "cell_type": "code",
   "execution_count": null,
   "metadata": {},
   "outputs": [],
   "source": [
    "u.explore_data(x_train, y_train, y_test, y_val)"
   ]
  },
  {
   "cell_type": "markdown",
   "metadata": {},
   "source": [
    "# I Build Baseline"
   ]
  },
  {
   "cell_type": "code",
   "execution_count": null,
   "metadata": {},
   "outputs": [],
   "source": [
    "baseline = u.build_baseline()\n"
   ]
  },
  {
   "cell_type": "code",
   "execution_count": null,
   "metadata": {},
   "outputs": [],
   "source": [
    "class_weights = {0: 0.5, \n",
    "                 1: 1} "
   ]
  },
  {
   "cell_type": "code",
   "execution_count": null,
   "metadata": {},
   "outputs": [],
   "source": [
    "history, baseline = u.train_model(baseline, x_train, y_train, x_val, y_val, \n",
    "                      epochs=10, batch_size=32, class_weights=class_weights) "
   ]
  },
  {
   "cell_type": "code",
   "execution_count": null,
   "metadata": {},
   "outputs": [],
   "source": [
    "u.plot_loss(history)"
   ]
  },
  {
   "cell_type": "markdown",
   "metadata": {},
   "source": [
    "# Baseline Evaluation"
   ]
  },
  {
   "cell_type": "code",
   "execution_count": null,
   "metadata": {},
   "outputs": [],
   "source": [
    "test_acc, y_pred = u.test_model(baseline, x_test, y_test)\n",
    "print(y_pred)"
   ]
  },
  {
   "cell_type": "code",
   "execution_count": null,
   "metadata": {},
   "outputs": [],
   "source": [
    "from sklearn.metrics import classification_report\n",
    "import numpy as np\n",
    "\n",
    "# Predict labels for test data\n",
    "y_pred = u.classify_handpose(baseline, x_test)\n",
    "\n",
    "# Compute classification report\n",
    "target_names = [\"Target Handpose\", \"Not Target Handpose\"]\n",
    "report = classification_report(list(y_test), \n",
    "                               list(y_pred), \n",
    "                               target_names=target_names)\n",
    "\n",
    "print(report)\n"
   ]
  },
  {
   "cell_type": "code",
   "execution_count": null,
   "metadata": {},
   "outputs": [],
   "source": [
    "# Classify handpose\n",
    "\n",
    "# sample random handpose\n",
    "idx = np.random.randint(0, len(y_test), size=1)[0] \n",
    "handpose_features = x_test[idx][np.newaxis, :] \n",
    "print('This handpose is not the target handpose.' if y_test[idx]==0 else \n",
    "      'This handpose is the target handpose.')\n",
    "\n",
    "# Use your model to make predictions\n",
    "y_pred = u.classify_handpose(baseline, handpose_features)\n",
    "\n",
    "if y_pred[0] == 1:\n",
    "    print('The model says this handpose is the target handpose.')\n",
    "else:\n",
    "    print('The model says this handpose is not the target handpose.')"
   ]
  },
  {
   "cell_type": "code",
   "execution_count": null,
   "metadata": {},
   "outputs": [],
   "source": [
    "print(test_acc)"
   ]
  },
  {
   "cell_type": "code",
   "execution_count": null,
   "metadata": {},
   "outputs": [],
   "source": [
    "baseline.summary()"
   ]
  },
  {
   "cell_type": "markdown",
   "metadata": {},
   "source": [
    "# II Build a Better Model"
   ]
  },
  {
   "cell_type": "code",
   "execution_count": null,
   "metadata": {},
   "outputs": [],
   "source": [
    "model = u.build_model()"
   ]
  },
  {
   "cell_type": "code",
   "execution_count": null,
   "metadata": {},
   "outputs": [],
   "source": [
    "class_weights = {0: 0.4, # o\n",
    "                 1: 1} # n"
   ]
  },
  {
   "cell_type": "code",
   "execution_count": null,
   "metadata": {},
   "outputs": [],
   "source": [
    "history, model = u.train_model(model, x_train, y_train, x_val, y_val, \n",
    "                      epochs=10, batch_size=32, class_weights=class_weights)"
   ]
  },
  {
   "cell_type": "code",
   "execution_count": null,
   "metadata": {},
   "outputs": [],
   "source": [
    "u.plot_loss(history)"
   ]
  },
  {
   "cell_type": "markdown",
   "metadata": {},
   "source": [
    "# Model Evaluation"
   ]
  },
  {
   "cell_type": "code",
   "execution_count": null,
   "metadata": {},
   "outputs": [],
   "source": [
    "test_acc, y_pred = u.test_model(model, x_test, y_test)\n",
    "print(y_pred)"
   ]
  },
  {
   "cell_type": "code",
   "execution_count": null,
   "metadata": {},
   "outputs": [],
   "source": [
    "from sklearn.metrics import classification_report\n",
    "import numpy as np\n",
    "\n",
    "# Predict labels for test data\n",
    "y_pred = u.classify_handpose(model, x_test)\n",
    "\n",
    "# Compute classification report\n",
    "target_names = [\"Target Handpose\", \"Not Target Handpose\"]\n",
    "report = classification_report(list(y_test), \n",
    "                               list(y_pred), \n",
    "                               target_names=target_names)\n",
    "\n",
    "print(report)"
   ]
  },
  {
   "cell_type": "code",
   "execution_count": null,
   "metadata": {},
   "outputs": [],
   "source": [
    "# Classify handpose\n",
    "\n",
    "# sample random handpose\n",
    "idx = np.random.randint(0, len(y_test), size=1)[0] \n",
    "handpose_features = x_test[idx][np.newaxis, :] \n",
    "print('This handpose is not the target handpose.' if y_test[idx]==0 else \n",
    "      'This handpose is the target handpose.')\n",
    "\n",
    "# Use your model to make predictions\n",
    "y_pred = u.classify_handpose(baseline, handpose_features)\n",
    "\n",
    "if y_pred[0] == 1:\n",
    "    print('The model says this handpose is the target handpose.')\n",
    "else:\n",
    "    print('The model says this handpose is not the target handpose.')"
   ]
  },
  {
   "cell_type": "code",
   "execution_count": null,
   "metadata": {},
   "outputs": [],
   "source": [
    "print(test_acc)"
   ]
  },
  {
   "cell_type": "code",
   "execution_count": null,
   "metadata": {},
   "outputs": [],
   "source": [
    "model.summary()"
   ]
  },
  {
   "cell_type": "code",
   "execution_count": null,
   "metadata": {},
   "outputs": [],
   "source": [
    "model.save('./Handpose-Recognition.h5')"
   ]
  },
  {
   "cell_type": "code",
   "execution_count": null,
   "metadata": {},
   "outputs": [],
   "source": [
    "!tensorflowjs_converter \\\n",
    "    --input_format=keras \\\n",
    "    --output_format=tfjs_graph_model \\\n",
    "    --saved_model_tags=serve \\\n",
    "    /Users/qianruzhang/Documents/GitHub/Machine-Learning-ML5/Week5-Real-Time-Handpose-Recognition/ML/Handpose-Recognition.keras \\\n",
    "    /Users/qianruzhang/Documents/GitHub/Machine-Learning-ML5/Week5-Real-Time-Posture-Recognition/tfjsmodel\n"
   ]
  }
 ],
 "metadata": {
  "kernelspec": {
   "display_name": "base",
   "language": "python",
   "name": "python3"
  },
  "language_info": {
   "codemirror_mode": {
    "name": "ipython",
    "version": 3
   },
   "file_extension": ".py",
   "mimetype": "text/x-python",
   "name": "python",
   "nbconvert_exporter": "python",
   "pygments_lexer": "ipython3",
   "version": "3.8.18"
  }
 },
 "nbformat": 4,
 "nbformat_minor": 2
}
