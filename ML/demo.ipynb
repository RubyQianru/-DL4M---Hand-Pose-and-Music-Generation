{
 "cells": [
  {
   "cell_type": "markdown",
   "metadata": {},
   "source": [
    "# Demo"
   ]
  },
  {
   "cell_type": "markdown",
   "metadata": {},
   "source": [
    "## Instruction\n",
    "\n",
    "1. You may use the demo.json we provided inside /Data folder, or you may use our Data Collector to collect your own hand pose data. If you are collectng your own data, make sure to rename the JSON file to \"data.json\", put it inside /Data folder, and run the following code.\n",
    "2. You may refer to the **Data Collection** instructions above for a step-by-step runthrough of how to correctly use Data Collector. "
   ]
  },
  {
   "cell_type": "code",
   "execution_count": 1,
   "metadata": {},
   "outputs": [
    {
     "name": "stderr",
     "output_type": "stream",
     "text": [
      "2024-05-02 12:06:43.424030: I tensorflow/core/platform/cpu_feature_guard.cc:182] This TensorFlow binary is optimized to use available CPU instructions in performance-critical operations.\n",
      "To enable the following instructions: AVX2 FMA, in other operations, rebuild TensorFlow with the appropriate compiler flags.\n"
     ]
    }
   ],
   "source": [
    "import utils as u "
   ]
  },
  {
   "cell_type": "code",
   "execution_count": 2,
   "metadata": {},
   "outputs": [],
   "source": [
    "file_paths = [\"../Data/demo.json\"]\n",
    "x_data, y_data = u.load_data(file_paths) "
   ]
  },
  {
   "cell_type": "code",
   "execution_count": 3,
   "metadata": {},
   "outputs": [],
   "source": [
    "from tensorflow.keras.models import load_model\n",
    "\n",
    "model = load_model('Handpose-Recognition.h5')\n"
   ]
  },
  {
   "cell_type": "code",
   "execution_count": 14,
   "metadata": {},
   "outputs": [
    {
     "name": "stdout",
     "output_type": "stream",
     "text": [
      "This handpose is not the target handpose.\n",
      "1/1 [==============================] - 0s 21ms/step\n",
      "The model says this handpose is not the target handpose.\n"
     ]
    }
   ],
   "source": [
    "import numpy as np\n",
    "\n",
    "# Classify handpose sourced and adjusted from DL4M Homework 1: \n",
    "# https://github.com/dl4m/homework-1-RubyQianru\n",
    "\n",
    "# sample random handpose from the demo dataset\n",
    "idx = np.random.randint(0, len(y_data), size=1)[0] \n",
    "handpose_features = x_data[idx][np.newaxis, :] \n",
    "print('This handpose is not the target handpose.' if y_data[idx]==0 else \n",
    "      'This handpose is the target handpose.')\n",
    "\n",
    "# Use your model to make predictions\n",
    "y_pred = u.classify_handpose(model, handpose_features)\n",
    "\n",
    "if y_pred[0] == 1:\n",
    "    print('The model says this handpose is the target handpose.')\n",
    "else:\n",
    "    print('The model says this handpose is not the target handpose.')"
   ]
  }
 ],
 "metadata": {
  "kernelspec": {
   "display_name": "dl4m",
   "language": "python",
   "name": "python3"
  },
  "language_info": {
   "codemirror_mode": {
    "name": "ipython",
    "version": 3
   },
   "file_extension": ".py",
   "mimetype": "text/x-python",
   "name": "python",
   "nbconvert_exporter": "python",
   "pygments_lexer": "ipython3",
   "version": "3.8.18"
  }
 },
 "nbformat": 4,
 "nbformat_minor": 2
}
